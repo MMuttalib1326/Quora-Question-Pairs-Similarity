{
 "cells": [
  {
   "cell_type": "code",
   "execution_count": 21,
   "id": "600ccbe8",
   "metadata": {},
   "outputs": [],
   "source": [
    "import numpy as np\n",
    "import pandas as pd\n",
    "import seaborn as sns\n",
    "import matplotlib.pyplot as plt"
   ]
  },
  {
   "cell_type": "code",
   "execution_count": 22,
   "id": "60425156",
   "metadata": {},
   "outputs": [
    {
     "data": {
      "text/plain": [
       "(404290, 6)"
      ]
     },
     "execution_count": 22,
     "metadata": {},
     "output_type": "execute_result"
    }
   ],
   "source": [
    "df = pd.read_csv(\"train.csv\")\n",
    "df.shape"
   ]
  },
  {
   "cell_type": "code",
   "execution_count": 25,
   "id": "5a3d86b9",
   "metadata": {},
   "outputs": [
    {
     "data": {
      "text/html": [
       "<div>\n",
       "<style scoped>\n",
       "    .dataframe tbody tr th:only-of-type {\n",
       "        vertical-align: middle;\n",
       "    }\n",
       "\n",
       "    .dataframe tbody tr th {\n",
       "        vertical-align: top;\n",
       "    }\n",
       "\n",
       "    .dataframe thead th {\n",
       "        text-align: right;\n",
       "    }\n",
       "</style>\n",
       "<table border=\"1\" class=\"dataframe\">\n",
       "  <thead>\n",
       "    <tr style=\"text-align: right;\">\n",
       "      <th></th>\n",
       "      <th>id</th>\n",
       "      <th>qid1</th>\n",
       "      <th>qid2</th>\n",
       "      <th>question1</th>\n",
       "      <th>question2</th>\n",
       "      <th>is_duplicate</th>\n",
       "    </tr>\n",
       "  </thead>\n",
       "  <tbody>\n",
       "    <tr>\n",
       "      <th>183268</th>\n",
       "      <td>183268</td>\n",
       "      <td>280288</td>\n",
       "      <td>280289</td>\n",
       "      <td>How did monkeys get to South America from Afri...</td>\n",
       "      <td>I fucking hate my life, I'm black, poor nd liv...</td>\n",
       "      <td>0</td>\n",
       "    </tr>\n",
       "    <tr>\n",
       "      <th>112930</th>\n",
       "      <td>112930</td>\n",
       "      <td>184684</td>\n",
       "      <td>132960</td>\n",
       "      <td>What is the best photo ever taken in your life?</td>\n",
       "      <td>What is the best picture taken by you?</td>\n",
       "      <td>1</td>\n",
       "    </tr>\n",
       "    <tr>\n",
       "      <th>300075</th>\n",
       "      <td>300075</td>\n",
       "      <td>348955</td>\n",
       "      <td>422827</td>\n",
       "      <td>What are some things new employees should know...</td>\n",
       "      <td>What are some things new employees should know...</td>\n",
       "      <td>0</td>\n",
       "    </tr>\n",
       "    <tr>\n",
       "      <th>223993</th>\n",
       "      <td>223993</td>\n",
       "      <td>296218</td>\n",
       "      <td>184831</td>\n",
       "      <td>Why do the British care about the Royal Family?</td>\n",
       "      <td>Why has the UK retained the monarchy?</td>\n",
       "      <td>0</td>\n",
       "    </tr>\n",
       "    <tr>\n",
       "      <th>171389</th>\n",
       "      <td>171389</td>\n",
       "      <td>177374</td>\n",
       "      <td>264819</td>\n",
       "      <td>Which is the most inspiring book to read?</td>\n",
       "      <td>What is the most inspiring book you have ever ...</td>\n",
       "      <td>0</td>\n",
       "    </tr>\n",
       "    <tr>\n",
       "      <th>357002</th>\n",
       "      <td>357002</td>\n",
       "      <td>486390</td>\n",
       "      <td>486391</td>\n",
       "      <td>Why can't I forget my girlfriend?</td>\n",
       "      <td>Why can't I forget my first girlfriend?</td>\n",
       "      <td>1</td>\n",
       "    </tr>\n",
       "    <tr>\n",
       "      <th>348760</th>\n",
       "      <td>348760</td>\n",
       "      <td>477337</td>\n",
       "      <td>477338</td>\n",
       "      <td>Which is greater rise in 1 degree Celsius or r...</td>\n",
       "      <td>If I sit and hold 100 grams of ice at zero deg...</td>\n",
       "      <td>0</td>\n",
       "    </tr>\n",
       "    <tr>\n",
       "      <th>119950</th>\n",
       "      <td>119950</td>\n",
       "      <td>194645</td>\n",
       "      <td>194646</td>\n",
       "      <td>What are some ways to amplify linear motion an...</td>\n",
       "      <td>How do you amplify linear motion?</td>\n",
       "      <td>1</td>\n",
       "    </tr>\n",
       "    <tr>\n",
       "      <th>209885</th>\n",
       "      <td>209885</td>\n",
       "      <td>314294</td>\n",
       "      <td>314295</td>\n",
       "      <td>How should one prepare for IAS when he is in h...</td>\n",
       "      <td>How can I prepare for IAS from my first year o...</td>\n",
       "      <td>1</td>\n",
       "    </tr>\n",
       "    <tr>\n",
       "      <th>23430</th>\n",
       "      <td>23430</td>\n",
       "      <td>43885</td>\n",
       "      <td>43886</td>\n",
       "      <td>In the initial days of a SaaS startup, when th...</td>\n",
       "      <td>I have to manage the entire operations and pro...</td>\n",
       "      <td>0</td>\n",
       "    </tr>\n",
       "  </tbody>\n",
       "</table>\n",
       "</div>"
      ],
      "text/plain": [
       "            id    qid1    qid2  \\\n",
       "183268  183268  280288  280289   \n",
       "112930  112930  184684  132960   \n",
       "300075  300075  348955  422827   \n",
       "223993  223993  296218  184831   \n",
       "171389  171389  177374  264819   \n",
       "357002  357002  486390  486391   \n",
       "348760  348760  477337  477338   \n",
       "119950  119950  194645  194646   \n",
       "209885  209885  314294  314295   \n",
       "23430    23430   43885   43886   \n",
       "\n",
       "                                                question1  \\\n",
       "183268  How did monkeys get to South America from Afri...   \n",
       "112930    What is the best photo ever taken in your life?   \n",
       "300075  What are some things new employees should know...   \n",
       "223993    Why do the British care about the Royal Family?   \n",
       "171389          Which is the most inspiring book to read?   \n",
       "357002                  Why can't I forget my girlfriend?   \n",
       "348760  Which is greater rise in 1 degree Celsius or r...   \n",
       "119950  What are some ways to amplify linear motion an...   \n",
       "209885  How should one prepare for IAS when he is in h...   \n",
       "23430   In the initial days of a SaaS startup, when th...   \n",
       "\n",
       "                                                question2  is_duplicate  \n",
       "183268  I fucking hate my life, I'm black, poor nd liv...             0  \n",
       "112930             What is the best picture taken by you?             1  \n",
       "300075  What are some things new employees should know...             0  \n",
       "223993              Why has the UK retained the monarchy?             0  \n",
       "171389  What is the most inspiring book you have ever ...             0  \n",
       "357002            Why can't I forget my first girlfriend?             1  \n",
       "348760  If I sit and hold 100 grams of ice at zero deg...             0  \n",
       "119950                  How do you amplify linear motion?             1  \n",
       "209885  How can I prepare for IAS from my first year o...             1  \n",
       "23430   I have to manage the entire operations and pro...             0  "
      ]
     },
     "execution_count": 25,
     "metadata": {},
     "output_type": "execute_result"
    }
   ],
   "source": [
    "df.sample(10)"
   ]
  },
  {
   "cell_type": "code",
   "execution_count": 4,
   "id": "37b00141",
   "metadata": {},
   "outputs": [
    {
     "name": "stdout",
     "output_type": "stream",
     "text": [
      "<class 'pandas.core.frame.DataFrame'>\n",
      "RangeIndex: 404290 entries, 0 to 404289\n",
      "Data columns (total 6 columns):\n",
      " #   Column        Non-Null Count   Dtype \n",
      "---  ------        --------------   ----- \n",
      " 0   id            404290 non-null  int64 \n",
      " 1   qid1          404290 non-null  int64 \n",
      " 2   qid2          404290 non-null  int64 \n",
      " 3   question1     404289 non-null  object\n",
      " 4   question2     404288 non-null  object\n",
      " 5   is_duplicate  404290 non-null  int64 \n",
      "dtypes: int64(4), object(2)\n",
      "memory usage: 18.5+ MB\n"
     ]
    }
   ],
   "source": [
    "df.info()"
   ]
  },
  {
   "cell_type": "code",
   "execution_count": 5,
   "id": "c5b82789",
   "metadata": {},
   "outputs": [
    {
     "data": {
      "text/plain": [
       "id              0\n",
       "qid1            0\n",
       "qid2            0\n",
       "question1       1\n",
       "question2       2\n",
       "is_duplicate    0\n",
       "dtype: int64"
      ]
     },
     "execution_count": 5,
     "metadata": {},
     "output_type": "execute_result"
    }
   ],
   "source": [
    "# missing values\n",
    "df.isnull().sum()"
   ]
  },
  {
   "cell_type": "code",
   "execution_count": 6,
   "id": "e704abaf",
   "metadata": {},
   "outputs": [
    {
     "data": {
      "text/plain": [
       "0"
      ]
     },
     "execution_count": 6,
     "metadata": {},
     "output_type": "execute_result"
    }
   ],
   "source": [
    "# duplicate rows\n",
    "df.duplicated().sum()"
   ]
  },
  {
   "cell_type": "code",
   "execution_count": 17,
   "id": "3f9bd6af",
   "metadata": {},
   "outputs": [
    {
     "name": "stdout",
     "output_type": "stream",
     "text": [
      "0    255027\n",
      "1    149263\n",
      "Name: is_duplicate, dtype: int64\n",
      "0    63.080215\n",
      "1    36.919785\n",
      "Name: is_duplicate, dtype: float64\n"
     ]
    },
    {
     "data": {
      "text/plain": [
       "<AxesSubplot:>"
      ]
     },
     "execution_count": 17,
     "metadata": {},
     "output_type": "execute_result"
    },
    {
     "data": {
      "image/png": "[encoded data removed]",
      "text/plain": [
       "<Figure size 432x288 with 1 Axes>"
      ]
     },
     "metadata": {
      "needs_background": "light"
     },
     "output_type": "display_data"
    }
   ],
   "source": [
    "# Distribution of duplicate and non-duplicate questions\n",
    "\n",
    "print(df['is_duplicate'].value_counts())\n",
    "print((df['is_duplicate'].value_counts()/df['is_duplicate'].count())*100)\n",
    "df['is_duplicate'].value_counts().plot(kind='bar')"
   ]
  },
  {
   "cell_type": "code",
   "execution_count": 19,
   "id": "788d2d08",
   "metadata": {},
   "outputs": [
    {
     "name": "stdout",
     "output_type": "stream",
     "text": [
      "Number of unique questions 537933\n",
      "Number of questions getting repeated 111780\n"
     ]
    }
   ],
   "source": [
    "# Repeated questions\n",
    "\n",
    "qid = pd.Series(df['qid1'].tolist() + df['qid2'].tolist())\n",
    "print('Number of unique questions',np.unique(qid).shape[0])\n",
    "x = qid.value_counts()>1\n",
    "print('Number of questions getting repeated',x[x].shape[0])"
   ]
  },
  {
   "cell_type": "code",
   "execution_count": 20,
   "id": "2fa5bb83",
   "metadata": {},
   "outputs": [
    {
     "data": {
      "image/png": "[encoded data removed]",
      "text/plain": [
       "<Figure size 432x288 with 1 Axes>"
      ]
     },
     "metadata": {
      "needs_background": "light"
     },
     "output_type": "display_data"
    }
   ],
   "source": [
    "# Repeated questions histogram\n",
    "\n",
    "plt.hist(qid.value_counts().values,bins=160)\n",
    "plt.yscale('log')\n",
    "plt.show()"
   ]
  },
  {
   "cell_type": "code",
   "execution_count": null,
   "id": "f9573e2f",
   "metadata": {},
   "outputs": [],
   "source": []
  }
 ],
 "metadata": {
  "kernelspec": {
   "display_name": "Python 3",
   "language": "python",
   "name": "python3"
  },
  "language_info": {
   "codemirror_mode": {
    "name": "ipython",
    "version": 3
   },
   "file_extension": ".py",
   "mimetype": "text/x-python",
   "name": "python",
   "nbconvert_exporter": "python",
   "pygments_lexer": "ipython3",
   "version": "3.8.8"
  }
 },
 "nbformat": 4,
 "nbformat_minor": 5
}
